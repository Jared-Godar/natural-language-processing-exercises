{
 "cells": [
  {
   "cell_type": "markdown",
   "metadata": {},
   "source": [
    "# Data Acquisition with Web Scraping"
   ]
  },
  {
   "cell_type": "code",
   "execution_count": 2,
   "metadata": {},
   "outputs": [],
   "source": [
    "import requests\n",
    "from bs4 import BeautifulSoup\n",
    "import pandas as pd"
   ]
  },
  {
   "cell_type": "markdown",
   "metadata": {},
   "source": [
    "`$ pip install beautifulsoup4`"
   ]
  },
  {
   "cell_type": "code",
   "execution_count": 3,
   "metadata": {},
   "outputs": [],
   "source": [
    "# !conda install -c anaconda beautifulsoup4\n"
   ]
  },
  {
   "cell_type": "markdown",
   "metadata": {},
   "source": [
    "## Soup Methods\n",
    "\n",
    "- `soup.select('.class')`: to get all the elements with class `class`\n",
    "- `soup.select_one('.class')`: to get the first element with class `class`\n",
    "- `soup.h2`: to get the first `h2` element\n",
    "- `soup.find_all('h2')`: to get all the elements with tag name of `h2`\n",
    "- `soup('h2')` : same as `find_all` method above\n",
    "- `soup.find('h2')`: finds the first matching element"
   ]
  },
  {
   "cell_type": "markdown",
   "metadata": {},
   "source": [
    "First make the request. The response is a bunch of html."
   ]
  },
  {
   "cell_type": "code",
   "execution_count": 4,
   "metadata": {},
   "outputs": [
    {
     "data": {
      "text/plain": [
       "'<!DOCTYPE html>\\n<html lang=\"en\">\\n<head>\\n    <meta charset=\"UTF-8\">\\n    <meta http-equiv=\"X-UA-Compatible\" content=\"IE=edge\">\\n    <meta name=\"viewport\" content=\"width=device-width, initial-scale=1.0\">\\n    <title>News Example Page</title>\\n    <link href=\"https://unpkg.com/tailwindcss@^2/dist/tailwind.min.css\" rel=\"stylesheet\" />\\n    <link rel=\"stylesheet\" href=\"https://cdn.jsdelivr.net/npm/bootstrap-icons@1.4.1/font/bootstrap-icons.css\" />\\n</head>\\n<body class=\"mx-auto max-w-screen-lg pb-32\">\\n    \\n<h1 class=\"my-5 text-4xl text-center\">News!</h1>\\n<div class=\"my-5 text-red-800 px-5 py-3 bg-red-100 font-bold\">\\n    <p>\\n        <i class=\"bi bi-exclamation-circle text-xl\"></i>\\n        All data on this page is strictly for demonstration purposes and fake.\\n    </p>\\n</div>\\n<div class=\"grid gap-y-12\">\\n    \\n    <div class=\"grid grid-cols-4 gap-x-4 border rounded pr-3 bg-green-50 hover:shadow-lg transition duration-500\">\\n        <img src=\"/static/placeholder.png\" />\\n        <div class=\"col-span-3 space-y-3 py-3\">\\n            <h2 class=\"text-2xl text-green-900\">five beautiful whether</h2>\\n            <div class=\"grid grid-cols-2 italic\">\\n                <p> 1999-08-12 </p>\\n                <p class=\"text-right\">By Breanna Green </p>\\n            </div>\\n            <p>Same defense main do happen. Sit could enough technology with everything.\\nBar investment sort civil style whom thing professional. Year help stay cultural two. Summer professor far born order leg right.</p>\\n        </div>\\n    </div>\\n    \\n    <div class=\"grid grid-cols-4 gap-x-4 border rounded pr-3 bg-green-50 hover:shadow-lg transition duration-500\">\\n        <img src=\"/static/placeholder.png\" />\\n        <div class=\"col-span-3 space-y-3 py-3\">\\n            <h2 class=\"text-2xl text-green-900\">study major seat</h2>\\n            <div class=\"grid grid-cols-2 italic\">\\n                <p> 2003-07-04 </p>\\n                <p class=\"text-right\">By Christina Griffin </p>\\n            </div>\\n            <p>Ability thus bank seem. Resource perform whose keep garden.\\nSmile write color enter across can. Part campaign artist west that north. Protect think surface who.</p>\\n        </div>\\n    </div>\\n    \\n    <div class=\"grid grid-cols-4 gap-x-4 border rounded pr-3 bg-green-50 hover:shadow-lg transition duration-500\">\\n        <img src=\"/static/placeholder.png\" />\\n        <div class=\"col-span-3 space-y-3 py-3\">\\n            <h2 class=\"text-2xl text-green-900\">perhaps hundred meet</h2>\\n            <div class=\"grid grid-cols-2 italic\">\\n                <p> 2000-09-25 </p>\\n                <p class=\"text-right\">By Frances Moody </p>\\n            </div>\\n            <p>Whose individual develop sell business side opportunity. Decade result hospital over. Page under answer.\\nProbably read contain arm break somebody. Truth yourself common process likely. People a action less treatment finish. Manager onto this citizen.</p>\\n        </div>\\n    </div>\\n    \\n    <div class=\"grid grid-cols-4 gap-x-4 border rounded pr-3 bg-green-50 hover:shadow-lg transition duration-500\">\\n        <img src=\"/static/placeholder.png\" />\\n        <div class=\"col-span-3 space-y-3 py-3\">\\n            <h2 class=\"text-2xl text-green-900\">future already ten</h2>\\n            <div class=\"grid grid-cols-2 italic\">\\n                <p> 1971-03-15 </p>\\n                <p class=\"text-right\">By Desiree Palmer </p>\\n            </div>\\n            <p>Community it manage possible total these. Despite none future another enter arrive. Great the while ask dream foot.\\nPublic feeling trip level my provide. Voice fill then. Dream enter understand. Support trouble fund marriage again model garden.</p>\\n        </div>\\n    </div>\\n    \\n    <div class=\"grid grid-cols-4 gap-x-4 border rounded pr-3 bg-green-50 hover:shadow-lg transition duration-500\">\\n        <img src=\"/static/placeholder.png\" />\\n        <div class=\"col-span-3 space-y-3 py-3\">\\n            <h2 class=\"text-2xl text-green-900\">happy billion performance</h2>\\n            <div class=\"grid grid-cols-2 italic\">\\n                <p> 2013-10-22 </p>\\n                <p class=\"text-right\">By Bonnie Ross </p>\\n            </div>\\n            <p>Seat information such interview.\\nYard open card. Growth per usually read claim. Official window friend it.</p>\\n        </div>\\n    </div>\\n    \\n    <div class=\"grid grid-cols-4 gap-x-4 border rounded pr-3 bg-green-50 hover:shadow-lg transition duration-500\">\\n        <img src=\"/static/placeholder.png\" />\\n        <div class=\"col-span-3 space-y-3 py-3\">\\n            <h2 class=\"text-2xl text-green-900\">charge name senior</h2>\\n            <div class=\"grid grid-cols-2 italic\">\\n                <p> 2015-11-29 </p>\\n                <p class=\"text-right\">By Michael Boyer </p>\\n            </div>\\n            <p>Situation middle today over. Claim difference member. Go pay set institution.\\nWhatever operation future language central street. Building exist standard fish entire area such sure. Buy wife wear up bar simply.</p>\\n        </div>\\n    </div>\\n    \\n    <div class=\"grid grid-cols-4 gap-x-4 border rounded pr-3 bg-green-50 hover:shadow-lg transition duration-500\">\\n        <img src=\"/static/placeholder.png\" />\\n        <div class=\"col-span-3 space-y-3 py-3\">\\n            <h2 class=\"text-2xl text-green-900\">health money start</h2>\\n            <div class=\"grid grid-cols-2 italic\">\\n                <p> 1974-09-12 </p>\\n                <p class=\"text-right\">By Samuel Sharp </p>\\n            </div>\\n            <p>Bed tend quickly author. Recognize court of nature perform standard.\\nSon great movement reveal. Mean commercial national still head contain religious teacher.</p>\\n        </div>\\n    </div>\\n    \\n    <div class=\"grid grid-cols-4 gap-x-4 border rounded pr-3 bg-green-50 hover:shadow-lg transition duration-500\">\\n        <img src=\"/static/placeholder.png\" />\\n        <div class=\"col-span-3 space-y-3 py-3\">\\n            <h2 class=\"text-2xl text-green-900\">opportunity memory wife</h2>\\n            <div class=\"grid grid-cols-2 italic\">\\n                <p> 1986-11-22 </p>\\n                <p class=\"text-right\">By Erica Martinez </p>\\n            </div>\\n            <p>Debate century around old raise American. Free rock follow only.\\nFinish method recently lot wait heart. A appear sport member lead risk structure.</p>\\n        </div>\\n    </div>\\n    \\n    <div class=\"grid grid-cols-4 gap-x-4 border rounded pr-3 bg-green-50 hover:shadow-lg transition duration-500\">\\n        <img src=\"/static/placeholder.png\" />\\n        <div class=\"col-span-3 space-y-3 py-3\">\\n            <h2 class=\"text-2xl text-green-900\">be skin visit</h2>\\n            <div class=\"grid grid-cols-2 italic\">\\n                <p> 2007-05-04 </p>\\n                <p class=\"text-right\">By Ms. Michele Leonard </p>\\n            </div>\\n            <p>Leave every cover gun expect. Staff standard couple between will charge. Involve risk song.\\nQuestion speak employee design pass. Myself operation final finish what but.</p>\\n        </div>\\n    </div>\\n    \\n    <div class=\"grid grid-cols-4 gap-x-4 border rounded pr-3 bg-green-50 hover:shadow-lg transition duration-500\">\\n        <img src=\"/static/placeholder.png\" />\\n        <div class=\"col-span-3 space-y-3 py-3\">\\n            <h2 class=\"text-2xl text-green-900\">century child north</h2>\\n            <div class=\"grid grid-cols-2 italic\">\\n                <p> 2021-01-04 </p>\\n                <p class=\"text-right\">By Monica Sherman </p>\\n            </div>\\n            <p>Sense finally us case tell. Week then wall. Present discover subject treatment range any American.\\nSing husband clearly worry. Listen floor establish go. Time term cost return into.</p>\\n        </div>\\n    </div>\\n    \\n    <div class=\"grid grid-cols-4 gap-x-4 border rounded pr-3 bg-green-50 hover:shadow-lg transition duration-500\">\\n        <img src=\"/static/placeholder.png\" />\\n        <div class=\"col-span-3 space-y-3 py-3\">\\n            <h2 class=\"text-2xl text-green-900\">test to one</h2>\\n            <div class=\"grid grid-cols-2 italic\">\\n                <p> 1986-11-14 </p>\\n                <p class=\"text-right\">By Jeremy Leblanc </p>\\n            </div>\\n            <p>Receive sort sell will animal range. Air conference foreign happy news knowledge. World state but sit participant.\\nDifficult executive Mrs break pull mention tell including. Republican owner pick lead with.</p>\\n        </div>\\n    </div>\\n    \\n    <div class=\"grid grid-cols-4 gap-x-4 border rounded pr-3 bg-green-50 hover:shadow-lg transition duration-500\">\\n        <img src=\"/static/placeholder.png\" />\\n        <div class=\"col-span-3 space-y-3 py-3\">\\n            <h2 class=\"text-2xl text-green-900\">newspaper door direction</h2>\\n            <div class=\"grid grid-cols-2 italic\">\\n                <p> 1979-03-11 </p>\\n                <p class=\"text-right\">By Julie Johnson </p>\\n            </div>\\n            <p>Edge single poor success. Until body us old third sport nearly begin.\\nSpring director suddenly prove protect test watch. Manager very community arrive impact able each. Around image human always.</p>\\n        </div>\\n    </div>\\n    \\n</div>\\n\\n</body>\\n</html>'"
      ]
     },
     "execution_count": 4,
     "metadata": {},
     "output_type": "execute_result"
    }
   ],
   "source": [
    "response = requests.get('https://web-scraping-demo.zgulde.net/news')\n",
    "html = response.text\n",
    "html"
   ]
  },
  {
   "cell_type": "markdown",
   "metadata": {},
   "source": [
    "We can make more sense of that html with the beautiful soup library."
   ]
  },
  {
   "cell_type": "code",
   "execution_count": 5,
   "metadata": {},
   "outputs": [
    {
     "name": "stdout",
     "output_type": "stream",
     "text": [
      "<!DOCTYPE html>\n",
      "<html lang=\"en\">\n",
      " <head>\n",
      "  <meta charset=\"utf-8\"/>\n",
      "  <meta content=\"IE=edge\" http-equiv=\"X-UA-Compatible\"/>\n",
      "  <meta content=\"width=device-width, initial-scale=1.0\" name=\"viewport\"/>\n",
      "  <title>\n",
      "   News Example Page\n",
      "  </title>\n",
      "  <link href=\"https://unpkg.com/tailwindcss@^2/dist/tailwind.min.css\" rel=\"stylesheet\"/>\n",
      "  <link href=\"https://cdn.jsdelivr.net/npm/bootstrap-icons@1.4.1/font/bootstrap-icons.css\" rel=\"stylesheet\"/>\n",
      " </head>\n",
      " <body class=\"mx-auto max-w-screen-lg pb-32\">\n",
      "  <h1 class=\"my-5 text-4xl text-center\">\n",
      "   News!\n",
      "  </h1>\n",
      "  <div class=\"my-5 text-red-800 px-5 py-3 bg-red-100 font-bold\">\n",
      "   <p>\n",
      "    <i class=\"bi bi-exclamation-circle text-xl\">\n",
      "    </i>\n",
      "    All data on this page is strictly for demonstration purposes and fake.\n",
      "   </p>\n",
      "  </div>\n",
      "  <div class=\"grid gap-y-12\">\n",
      "   <div class=\"grid grid-cols-4 gap-x-4 border rounded pr-3 bg-green-50 hover:shadow-lg transition duration-500\">\n",
      "    <img src=\"/static/placeholder.png\"/>\n",
      "    <div class=\"col-span-3 space-y-3 py-3\">\n",
      "     <h2 class=\"text-2xl text-green-900\">\n",
      "      five beautiful whether\n",
      "     </h2>\n",
      "     <div class=\"grid grid-cols-2 italic\">\n",
      "      <p>\n",
      "       1999-08-12\n",
      "      </p>\n",
      "      <p class=\"text-right\">\n",
      "       By Breanna Green\n",
      "      </p>\n",
      "     </div>\n",
      "     <p>\n",
      "      Same defense main do happen. Sit could enough technology with everything.\n",
      "Bar investment sort civil style whom thing professional. Year help stay cultural two. Summer professor far born order leg right.\n",
      "     </p>\n",
      "    </div>\n",
      "   </div>\n",
      "   <div class=\"grid grid-cols-4 gap-x-4 border rounded pr-3 bg-green-50 hover:shadow-lg transition duration-500\">\n",
      "    <img src=\"/static/placeholder.png\"/>\n",
      "    <div class=\"col-span-3 space-y-3 py-3\">\n",
      "     <h2 class=\"text-2xl text-green-900\">\n",
      "      study major seat\n",
      "     </h2>\n",
      "     <div class=\"grid grid-cols-2 italic\">\n",
      "      <p>\n",
      "       2003-07-04\n",
      "      </p>\n",
      "      <p class=\"text-right\">\n",
      "       By Christina Griffin\n",
      "      </p>\n",
      "     </div>\n",
      "     <p>\n",
      "      Ability thus bank seem. Resource perform whose keep garden.\n",
      "Smile write color enter across can. Part campaign artist west that north. Protect think surface who.\n",
      "     </p>\n",
      "    </div>\n",
      "   </div>\n",
      "   <div class=\"grid grid-cols-4 gap-x-4 border rounded pr-3 bg-green-50 hover:shadow-lg transition duration-500\">\n",
      "    <img src=\"/static/placeholder.png\"/>\n",
      "    <div class=\"col-span-3 space-y-3 py-3\">\n",
      "     <h2 class=\"text-2xl text-green-900\">\n",
      "      perhaps hundred meet\n",
      "     </h2>\n",
      "     <div class=\"grid grid-cols-2 italic\">\n",
      "      <p>\n",
      "       2000-09-25\n",
      "      </p>\n",
      "      <p class=\"text-right\">\n",
      "       By Frances Moody\n",
      "      </p>\n",
      "     </div>\n",
      "     <p>\n",
      "      Whose individual develop sell business side opportunity. Decade result hospital over. Page under answer.\n",
      "Probably read contain arm break somebody. Truth yourself common process likely. People a action less treatment finish. Manager onto this citizen.\n",
      "     </p>\n",
      "    </div>\n",
      "   </div>\n",
      "   <div class=\"grid grid-cols-4 gap-x-4 border rounded pr-3 bg-green-50 hover:shadow-lg transition duration-500\">\n",
      "    <img src=\"/static/placeholder.png\"/>\n",
      "    <div class=\"col-span-3 space-y-3 py-3\">\n",
      "     <h2 class=\"text-2xl text-green-900\">\n",
      "      future already ten\n",
      "     </h2>\n",
      "     <div class=\"grid grid-cols-2 italic\">\n",
      "      <p>\n",
      "       1971-03-15\n",
      "      </p>\n",
      "      <p class=\"text-right\">\n",
      "       By Desiree Palmer\n",
      "      </p>\n",
      "     </div>\n",
      "     <p>\n",
      "      Community it manage possible total these. Despite none future another enter arrive. Great the while ask dream foot.\n",
      "Public feeling trip level my provide. Voice fill then. Dream enter understand. Support trouble fund marriage again model garden.\n",
      "     </p>\n",
      "    </div>\n",
      "   </div>\n",
      "   <div class=\"grid grid-cols-4 gap-x-4 border rounded pr-3 bg-green-50 hover:shadow-lg transition duration-500\">\n",
      "    <img src=\"/static/placeholder.png\"/>\n",
      "    <div class=\"col-span-3 space-y-3 py-3\">\n",
      "     <h2 class=\"text-2xl text-green-900\">\n",
      "      happy billion performance\n",
      "     </h2>\n",
      "     <div class=\"grid grid-cols-2 italic\">\n",
      "      <p>\n",
      "       2013-10-22\n",
      "      </p>\n",
      "      <p class=\"text-right\">\n",
      "       By Bonnie Ross\n",
      "      </p>\n",
      "     </div>\n",
      "     <p>\n",
      "      Seat information such interview.\n",
      "Yard open card. Growth per usually read claim. Official window friend it.\n",
      "     </p>\n",
      "    </div>\n",
      "   </div>\n",
      "   <div class=\"grid grid-cols-4 gap-x-4 border rounded pr-3 bg-green-50 hover:shadow-lg transition duration-500\">\n",
      "    <img src=\"/static/placeholder.png\"/>\n",
      "    <div class=\"col-span-3 space-y-3 py-3\">\n",
      "     <h2 class=\"text-2xl text-green-900\">\n",
      "      charge name senior\n",
      "     </h2>\n",
      "     <div class=\"grid grid-cols-2 italic\">\n",
      "      <p>\n",
      "       2015-11-29\n",
      "      </p>\n",
      "      <p class=\"text-right\">\n",
      "       By Michael Boyer\n",
      "      </p>\n",
      "     </div>\n",
      "     <p>\n",
      "      Situation middle today over. Claim difference member. Go pay set institution.\n",
      "Whatever operation future language central street. Building exist standard fish entire area such sure. Buy wife wear up bar simply.\n",
      "     </p>\n",
      "    </div>\n",
      "   </div>\n",
      "   <div class=\"grid grid-cols-4 gap-x-4 border rounded pr-3 bg-green-50 hover:shadow-lg transition duration-500\">\n",
      "    <img src=\"/static/placeholder.png\"/>\n",
      "    <div class=\"col-span-3 space-y-3 py-3\">\n",
      "     <h2 class=\"text-2xl text-green-900\">\n",
      "      health money start\n",
      "     </h2>\n",
      "     <div class=\"grid grid-cols-2 italic\">\n",
      "      <p>\n",
      "       1974-09-12\n",
      "      </p>\n",
      "      <p class=\"text-right\">\n",
      "       By Samuel Sharp\n",
      "      </p>\n",
      "     </div>\n",
      "     <p>\n",
      "      Bed tend quickly author. Recognize court of nature perform standard.\n",
      "Son great movement reveal. Mean commercial national still head contain religious teacher.\n",
      "     </p>\n",
      "    </div>\n",
      "   </div>\n",
      "   <div class=\"grid grid-cols-4 gap-x-4 border rounded pr-3 bg-green-50 hover:shadow-lg transition duration-500\">\n",
      "    <img src=\"/static/placeholder.png\"/>\n",
      "    <div class=\"col-span-3 space-y-3 py-3\">\n",
      "     <h2 class=\"text-2xl text-green-900\">\n",
      "      opportunity memory wife\n",
      "     </h2>\n",
      "     <div class=\"grid grid-cols-2 italic\">\n",
      "      <p>\n",
      "       1986-11-22\n",
      "      </p>\n",
      "      <p class=\"text-right\">\n",
      "       By Erica Martinez\n",
      "      </p>\n",
      "     </div>\n",
      "     <p>\n",
      "      Debate century around old raise American. Free rock follow only.\n",
      "Finish method recently lot wait heart. A appear sport member lead risk structure.\n",
      "     </p>\n",
      "    </div>\n",
      "   </div>\n",
      "   <div class=\"grid grid-cols-4 gap-x-4 border rounded pr-3 bg-green-50 hover:shadow-lg transition duration-500\">\n",
      "    <img src=\"/static/placeholder.png\"/>\n",
      "    <div class=\"col-span-3 space-y-3 py-3\">\n",
      "     <h2 class=\"text-2xl text-green-900\">\n",
      "      be skin visit\n",
      "     </h2>\n",
      "     <div class=\"grid grid-cols-2 italic\">\n",
      "      <p>\n",
      "       2007-05-04\n",
      "      </p>\n",
      "      <p class=\"text-right\">\n",
      "       By Ms. Michele Leonard\n",
      "      </p>\n",
      "     </div>\n",
      "     <p>\n",
      "      Leave every cover gun expect. Staff standard couple between will charge. Involve risk song.\n",
      "Question speak employee design pass. Myself operation final finish what but.\n",
      "     </p>\n",
      "    </div>\n",
      "   </div>\n",
      "   <div class=\"grid grid-cols-4 gap-x-4 border rounded pr-3 bg-green-50 hover:shadow-lg transition duration-500\">\n",
      "    <img src=\"/static/placeholder.png\"/>\n",
      "    <div class=\"col-span-3 space-y-3 py-3\">\n",
      "     <h2 class=\"text-2xl text-green-900\">\n",
      "      century child north\n",
      "     </h2>\n",
      "     <div class=\"grid grid-cols-2 italic\">\n",
      "      <p>\n",
      "       2021-01-04\n",
      "      </p>\n",
      "      <p class=\"text-right\">\n",
      "       By Monica Sherman\n",
      "      </p>\n",
      "     </div>\n",
      "     <p>\n",
      "      Sense finally us case tell. Week then wall. Present discover subject treatment range any American.\n",
      "Sing husband clearly worry. Listen floor establish go. Time term cost return into.\n",
      "     </p>\n",
      "    </div>\n",
      "   </div>\n",
      "   <div class=\"grid grid-cols-4 gap-x-4 border rounded pr-3 bg-green-50 hover:shadow-lg transition duration-500\">\n",
      "    <img src=\"/static/placeholder.png\"/>\n",
      "    <div class=\"col-span-3 space-y-3 py-3\">\n",
      "     <h2 class=\"text-2xl text-green-900\">\n",
      "      test to one\n",
      "     </h2>\n",
      "     <div class=\"grid grid-cols-2 italic\">\n",
      "      <p>\n",
      "       1986-11-14\n",
      "      </p>\n",
      "      <p class=\"text-right\">\n",
      "       By Jeremy Leblanc\n",
      "      </p>\n",
      "     </div>\n",
      "     <p>\n",
      "      Receive sort sell will animal range. Air conference foreign happy news knowledge. World state but sit participant.\n",
      "Difficult executive Mrs break pull mention tell including. Republican owner pick lead with.\n",
      "     </p>\n",
      "    </div>\n",
      "   </div>\n",
      "   <div class=\"grid grid-cols-4 gap-x-4 border rounded pr-3 bg-green-50 hover:shadow-lg transition duration-500\">\n",
      "    <img src=\"/static/placeholder.png\"/>\n",
      "    <div class=\"col-span-3 space-y-3 py-3\">\n",
      "     <h2 class=\"text-2xl text-green-900\">\n",
      "      newspaper door direction\n",
      "     </h2>\n",
      "     <div class=\"grid grid-cols-2 italic\">\n",
      "      <p>\n",
      "       1979-03-11\n",
      "      </p>\n",
      "      <p class=\"text-right\">\n",
      "       By Julie Johnson\n",
      "      </p>\n",
      "     </div>\n",
      "     <p>\n",
      "      Edge single poor success. Until body us old third sport nearly begin.\n",
      "Spring director suddenly prove protect test watch. Manager very community arrive impact able each. Around image human always.\n",
      "     </p>\n",
      "    </div>\n",
      "   </div>\n",
      "  </div>\n",
      " </body>\n",
      "</html>\n"
     ]
    }
   ],
   "source": [
    "soup = BeautifulSoup(html)\n",
    "print(soup.prettify())"
   ]
  },
  {
   "cell_type": "markdown",
   "metadata": {},
   "source": [
    "From here we can switch between the browser and python and try out different ways of getting different parts of the html document.\n",
    "\n",
    "We can leverage Google Chrome's developer tools by right clicking and choosing \"Inspect\". We can then use this html document inspector to help us with our web scraping."
   ]
  },
  {
   "cell_type": "code",
   "execution_count": null,
   "metadata": {},
   "outputs": [],
   "source": [
    "# Use beautifulsoup methods to extract necessary content from an article"
   ]
  },
  {
   "cell_type": "markdown",
   "metadata": {},
   "source": [
    "Bringing it all together: Make a function"
   ]
  },
  {
   "cell_type": "code",
   "execution_count": null,
   "metadata": {},
   "outputs": [],
   "source": [
    "# def parse_news(article):\n",
    "#     headline = \n",
    "#     date = \n",
    "#     author = \n",
    "#     content = \n",
    "#     content = \n",
    "    \n",
    "#     return {\n",
    "#         'headline': headline, 'date': date, 'author': author,\n",
    "#         'content': content\n",
    "#     }"
   ]
  },
  {
   "cell_type": "code",
   "execution_count": null,
   "metadata": {},
   "outputs": [],
   "source": [
    "# loop through all the articles\n"
   ]
  },
  {
   "cell_type": "markdown",
   "metadata": {},
   "source": [
    "## Scraping People"
   ]
  },
  {
   "cell_type": "code",
   "execution_count": null,
   "metadata": {},
   "outputs": [],
   "source": [
    "response = requests.get('https://web-scraping-demo.zgulde.net/people', headers={'user-agent': 'Codeup DS Hoppper'})\n",
    "soup = BeautifulSoup(response.text)"
   ]
  },
  {
   "cell_type": "code",
   "execution_count": null,
   "metadata": {},
   "outputs": [],
   "source": []
  },
  {
   "cell_type": "code",
   "execution_count": null,
   "metadata": {},
   "outputs": [],
   "source": [
    "# def parse_person(person):\n",
    "#     name = \n",
    "#     quote = \n",
    "#     email = \n",
    "#     phone = \n",
    "#     address = \n",
    "\n",
    "    \n",
    "#     return {\n",
    "#         'name': name, 'quote': quote, 'email': email,\n",
    "#         'phone': phone,\n",
    "#         'address': address\n",
    "#     }"
   ]
  },
  {
   "cell_type": "code",
   "execution_count": null,
   "metadata": {},
   "outputs": [],
   "source": [
    "# loop through all the persons\n"
   ]
  },
  {
   "cell_type": "markdown",
   "metadata": {},
   "source": [
    "## Web Scraping Etiquitte\n",
    "\n",
    "- respect the `robots.txt` file if present\n",
    "\n",
    "    * [Wikipedia: Robots exclusion standard](https://en.wikipedia.org/wiki/Robots_exclusion_standard)\n",
    "    * [robotstxt.org](http://www.robotstxt.org/robotstxt.html)\n",
    "    * [codeup's robots.txt](https://codeup.com/robots.txt)\n",
    "\n",
    "- use a descriptive user agent\n",
    "\n",
    "    ```python\n",
    "    requests.get('http://example.com', headers={'user-agent': 'codeup data science germain cohort'})\n",
    "    ```"
   ]
  },
  {
   "cell_type": "markdown",
   "metadata": {},
   "source": [
    "## Exercises\n",
    "\n",
    "#### Codeup Blog Articles\n",
    "\n",
    "Visit Codeup's Blog(http://codeup.com/blog/) and record the urls for at least 5 distinct blog posts. For each post, you should scrape at least the post's title and content.\n",
    "\n",
    "Encapsulate your work in a function named get_blog_articles that will return a list of dictionaries, with each dictionary representing one article. The shape of each dictionary should look like this:"
   ]
  },
  {
   "cell_type": "code",
   "execution_count": null,
   "metadata": {},
   "outputs": [],
   "source": [
    "response = requests.get('https://codeup.com/blog/', headers={'user-agent': 'Codeup DS Hopper'})\n",
    "soup = BeautifulSoup(response.text)"
   ]
  },
  {
   "cell_type": "code",
   "execution_count": null,
   "metadata": {},
   "outputs": [],
   "source": []
  }
 ],
 "metadata": {
  "interpreter": {
   "hash": "38cca0c38332a56087b24af0bc80247f4fced29cb4f7f437d91dc159adec9c4e"
  },
  "kernelspec": {
   "display_name": "Python 3",
   "language": "python",
   "name": "python3"
  },
  "language_info": {
   "codemirror_mode": {
    "name": "ipython",
    "version": 3
   },
   "file_extension": ".py",
   "mimetype": "text/x-python",
   "name": "python",
   "nbconvert_exporter": "python",
   "pygments_lexer": "ipython3",
   "version": "3.8.12"
  }
 },
 "nbformat": 4,
 "nbformat_minor": 4
}
