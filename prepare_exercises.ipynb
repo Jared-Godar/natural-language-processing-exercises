{
 "cells": [
  {
   "cell_type": "markdown",
   "metadata": {},
   "source": [
    "# Prepare Exercises\n",
    "\n",
    "<p>The end result of this exercise should be a file named <code>prepare.py</code> that defines\n",
    "the requested functions.</p>\n",
    "<p>In this exercise we will be defining some functions to prepare textual data.\n",
    "These functions should apply equally well to both the codeup blog articles and\n",
    "the news articles that were previously acquired.</p>\n"
   ]
  },
  {
   "cell_type": "markdown",
   "metadata": {},
   "source": [
    "<ol>\n",
    "<li>\n",
    "<p>Define a function named <code>basic_clean</code>. It should take in a string and apply\n",
    "   some basic text cleaning to it:</p>\n",
    "<ul>\n"
   ]
  },
  {
   "cell_type": "markdown",
   "metadata": {},
   "source": [
    "<li>Lowercase everything</li>\n"
   ]
  },
  {
   "cell_type": "code",
   "execution_count": null,
   "metadata": {},
   "outputs": [],
   "source": []
  },
  {
   "cell_type": "markdown",
   "metadata": {},
   "source": [
    "<li>Replace anything that is not a letter, number, whitespace or a single quote.</li>\n"
   ]
  },
  {
   "cell_type": "code",
   "execution_count": null,
   "metadata": {},
   "outputs": [],
   "source": []
  },
  {
   "cell_type": "markdown",
   "metadata": {},
   "source": [
    "2. Define a function named <code>tokenize</code>. It should take in a string and tokenize all the words in the string.\n",
    "\n"
   ]
  },
  {
   "cell_type": "code",
   "execution_count": null,
   "metadata": {},
   "outputs": [],
   "source": []
  },
  {
   "cell_type": "markdown",
   "metadata": {},
   "source": [
    "3. Define a function named <code>stem</code>. It should accept some text and return the text after applying stemming to all the words.\n",
    "   \n"
   ]
  },
  {
   "cell_type": "code",
   "execution_count": null,
   "metadata": {},
   "outputs": [],
   "source": []
  },
  {
   "cell_type": "markdown",
   "metadata": {},
   "source": [
    "4. Define a function named <code>lemmatize</code>. It should accept some text and return the text after applying lemmatization to each word.\n",
    "\n"
   ]
  },
  {
   "cell_type": "code",
   "execution_count": null,
   "metadata": {},
   "outputs": [],
   "source": []
  },
  {
   "cell_type": "markdown",
   "metadata": {},
   "source": [
    "5. Define a function named <code>remove_stopwords</code>. It should accept some text and return the text after removing all the stopwords.</p>\n",
    "<p>This function should define two optional parameters, <code>extra_words</code> and <code>exclude_words</code>. These parameters should define any additional stop words to\n",
    "include, and any words that we <em>don't</em> want to remove.\n",
    "\n"
   ]
  },
  {
   "cell_type": "code",
   "execution_count": null,
   "metadata": {},
   "outputs": [],
   "source": []
  },
  {
   "cell_type": "markdown",
   "metadata": {},
   "source": [
    "6. Use your data from the acquire to produce a dataframe of the news articles. Name the dataframe <code>news_df</code>.\n",
    "\n"
   ]
  },
  {
   "cell_type": "code",
   "execution_count": null,
   "metadata": {},
   "outputs": [],
   "source": []
  },
  {
   "cell_type": "markdown",
   "metadata": {},
   "source": [
    "7. Make another dataframe for the Codeup blog posts. Name the dataframe <code>codeup_df\n",
    "   \n"
   ]
  },
  {
   "cell_type": "code",
   "execution_count": null,
   "metadata": {},
   "outputs": [],
   "source": []
  },
  {
   "cell_type": "markdown",
   "metadata": {},
   "source": [
    "8. For each dataframe, produce the following columns:</p>\n",
    "<ul>\n",
    "<li><code>title</code> to hold the title</li>\n",
    "<li><code>original</code> to hold the original article/post content</li>\n",
    "<li><code>clean</code> to hold the normalized and tokenized original with the stopwords removed.</li>\n",
    "<li><code>stemmed</code> to hold the stemmed version of the cleaned data.</li>\n",
    "<li><code>lemmatized</code> to hold the lemmatized version of the cleaned data.</li>\n"
   ]
  },
  {
   "cell_type": "code",
   "execution_count": null,
   "metadata": {},
   "outputs": [],
   "source": []
  },
  {
   "cell_type": "markdown",
   "metadata": {},
   "source": [
    "\n",
    "\n",
    "9. Ask yourself: </p>\n",
    "<ul>\n",
    "<li>If your corpus is 493KB, would you prefer to use stemmed or lemmatized text?</li>\n",
    "<li>If your corpus is 25MB, would you prefer to use stemmed or lemmatized text?</li>\n",
    "<li>If your corpus is 200TB of text and you're charged by the megabyte for your hosted computational resources, would you prefer to use stemmed or lemmatized text?</li>\n",
    "</ul>\n",
    "</li>\n",
    "</ol>"
   ]
  },
  {
   "cell_type": "markdown",
   "metadata": {},
   "source": []
  }
 ],
 "metadata": {
  "interpreter": {
   "hash": "38cca0c38332a56087b24af0bc80247f4fced29cb4f7f437d91dc159adec9c4e"
  },
  "kernelspec": {
   "display_name": "Python 3.8.12 64-bit ('base': conda)",
   "language": "python",
   "name": "python3"
  },
  "language_info": {
   "name": "python",
   "version": "3.8.12"
  },
  "orig_nbformat": 4
 },
 "nbformat": 4,
 "nbformat_minor": 2
}
